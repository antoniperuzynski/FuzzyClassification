{
  "nbformat": 4,
  "nbformat_minor": 0,
  "metadata": {
    "colab": {
      "provenance": []
    },
    "kernelspec": {
      "name": "python3",
      "display_name": "Python 3"
    },
    "language_info": {
      "name": "python"
    }
  },
  "cells": [
    {
      "cell_type": "markdown",
      "source": [
        "# Fuzyy logic classificator for dataset *Iris*\n",
        "*Perużyński Antoni* \\\n",
        "*Tatarczyk Karolina*"
      ],
      "metadata": {
        "id": "f8cxRvhxw04M"
      }
    },
    {
      "cell_type": "markdown",
      "source": [
        "## Imports"
      ],
      "metadata": {
        "id": "JZ9EQBYexfdj"
      }
    },
    {
      "cell_type": "code",
      "execution_count": null,
      "metadata": {
        "id": "6lbNLOqjoe6d"
      },
      "outputs": [],
      "source": [
        "import pandas as pd\n",
        "import numpy as np\n",
        "\n",
        "from sklearn.model_selection import train_test_split\n",
        "from sklearn.preprocessing import StandardScaler"
      ]
    },
    {
      "cell_type": "markdown",
      "source": [
        "## Data reading and preprocessing"
      ],
      "metadata": {
        "id": "B7V9NFgYxjZN"
      }
    },
    {
      "cell_type": "code",
      "source": [
        "df = pd.read_csv(\"iris.csv\")\n",
        "df.head()"
      ],
      "metadata": {
        "colab": {
          "base_uri": "https://localhost:8080/",
          "height": 206
        },
        "id": "sCbgPx__olNX",
        "outputId": "bedd1016-0171-4496-9ce1-2ce586323bbe"
      },
      "execution_count": null,
      "outputs": [
        {
          "output_type": "execute_result",
          "data": {
            "text/plain": [
              "   sepal.length  sepal.width  petal.length  petal.width variety\n",
              "0           5.1          3.5           1.4          0.2  Setosa\n",
              "1           4.9          3.0           1.4          0.2  Setosa\n",
              "2           4.7          3.2           1.3          0.2  Setosa\n",
              "3           4.6          3.1           1.5          0.2  Setosa\n",
              "4           5.0          3.6           1.4          0.2  Setosa"
            ],
            "text/html": [
              "\n",
              "  <div id=\"df-164d9311-82b6-4dc3-be1b-9b0e6ffe9fa7\">\n",
              "    <div class=\"colab-df-container\">\n",
              "      <div>\n",
              "<style scoped>\n",
              "    .dataframe tbody tr th:only-of-type {\n",
              "        vertical-align: middle;\n",
              "    }\n",
              "\n",
              "    .dataframe tbody tr th {\n",
              "        vertical-align: top;\n",
              "    }\n",
              "\n",
              "    .dataframe thead th {\n",
              "        text-align: right;\n",
              "    }\n",
              "</style>\n",
              "<table border=\"1\" class=\"dataframe\">\n",
              "  <thead>\n",
              "    <tr style=\"text-align: right;\">\n",
              "      <th></th>\n",
              "      <th>sepal.length</th>\n",
              "      <th>sepal.width</th>\n",
              "      <th>petal.length</th>\n",
              "      <th>petal.width</th>\n",
              "      <th>variety</th>\n",
              "    </tr>\n",
              "  </thead>\n",
              "  <tbody>\n",
              "    <tr>\n",
              "      <th>0</th>\n",
              "      <td>5.1</td>\n",
              "      <td>3.5</td>\n",
              "      <td>1.4</td>\n",
              "      <td>0.2</td>\n",
              "      <td>Setosa</td>\n",
              "    </tr>\n",
              "    <tr>\n",
              "      <th>1</th>\n",
              "      <td>4.9</td>\n",
              "      <td>3.0</td>\n",
              "      <td>1.4</td>\n",
              "      <td>0.2</td>\n",
              "      <td>Setosa</td>\n",
              "    </tr>\n",
              "    <tr>\n",
              "      <th>2</th>\n",
              "      <td>4.7</td>\n",
              "      <td>3.2</td>\n",
              "      <td>1.3</td>\n",
              "      <td>0.2</td>\n",
              "      <td>Setosa</td>\n",
              "    </tr>\n",
              "    <tr>\n",
              "      <th>3</th>\n",
              "      <td>4.6</td>\n",
              "      <td>3.1</td>\n",
              "      <td>1.5</td>\n",
              "      <td>0.2</td>\n",
              "      <td>Setosa</td>\n",
              "    </tr>\n",
              "    <tr>\n",
              "      <th>4</th>\n",
              "      <td>5.0</td>\n",
              "      <td>3.6</td>\n",
              "      <td>1.4</td>\n",
              "      <td>0.2</td>\n",
              "      <td>Setosa</td>\n",
              "    </tr>\n",
              "  </tbody>\n",
              "</table>\n",
              "</div>\n",
              "      <button class=\"colab-df-convert\" onclick=\"convertToInteractive('df-164d9311-82b6-4dc3-be1b-9b0e6ffe9fa7')\"\n",
              "              title=\"Convert this dataframe to an interactive table.\"\n",
              "              style=\"display:none;\">\n",
              "        \n",
              "  <svg xmlns=\"http://www.w3.org/2000/svg\" height=\"24px\"viewBox=\"0 0 24 24\"\n",
              "       width=\"24px\">\n",
              "    <path d=\"M0 0h24v24H0V0z\" fill=\"none\"/>\n",
              "    <path d=\"M18.56 5.44l.94 2.06.94-2.06 2.06-.94-2.06-.94-.94-2.06-.94 2.06-2.06.94zm-11 1L8.5 8.5l.94-2.06 2.06-.94-2.06-.94L8.5 2.5l-.94 2.06-2.06.94zm10 10l.94 2.06.94-2.06 2.06-.94-2.06-.94-.94-2.06-.94 2.06-2.06.94z\"/><path d=\"M17.41 7.96l-1.37-1.37c-.4-.4-.92-.59-1.43-.59-.52 0-1.04.2-1.43.59L10.3 9.45l-7.72 7.72c-.78.78-.78 2.05 0 2.83L4 21.41c.39.39.9.59 1.41.59.51 0 1.02-.2 1.41-.59l7.78-7.78 2.81-2.81c.8-.78.8-2.07 0-2.86zM5.41 20L4 18.59l7.72-7.72 1.47 1.35L5.41 20z\"/>\n",
              "  </svg>\n",
              "      </button>\n",
              "      \n",
              "  <style>\n",
              "    .colab-df-container {\n",
              "      display:flex;\n",
              "      flex-wrap:wrap;\n",
              "      gap: 12px;\n",
              "    }\n",
              "\n",
              "    .colab-df-convert {\n",
              "      background-color: #E8F0FE;\n",
              "      border: none;\n",
              "      border-radius: 50%;\n",
              "      cursor: pointer;\n",
              "      display: none;\n",
              "      fill: #1967D2;\n",
              "      height: 32px;\n",
              "      padding: 0 0 0 0;\n",
              "      width: 32px;\n",
              "    }\n",
              "\n",
              "    .colab-df-convert:hover {\n",
              "      background-color: #E2EBFA;\n",
              "      box-shadow: 0px 1px 2px rgba(60, 64, 67, 0.3), 0px 1px 3px 1px rgba(60, 64, 67, 0.15);\n",
              "      fill: #174EA6;\n",
              "    }\n",
              "\n",
              "    [theme=dark] .colab-df-convert {\n",
              "      background-color: #3B4455;\n",
              "      fill: #D2E3FC;\n",
              "    }\n",
              "\n",
              "    [theme=dark] .colab-df-convert:hover {\n",
              "      background-color: #434B5C;\n",
              "      box-shadow: 0px 1px 3px 1px rgba(0, 0, 0, 0.15);\n",
              "      filter: drop-shadow(0px 1px 2px rgba(0, 0, 0, 0.3));\n",
              "      fill: #FFFFFF;\n",
              "    }\n",
              "  </style>\n",
              "\n",
              "      <script>\n",
              "        const buttonEl =\n",
              "          document.querySelector('#df-164d9311-82b6-4dc3-be1b-9b0e6ffe9fa7 button.colab-df-convert');\n",
              "        buttonEl.style.display =\n",
              "          google.colab.kernel.accessAllowed ? 'block' : 'none';\n",
              "\n",
              "        async function convertToInteractive(key) {\n",
              "          const element = document.querySelector('#df-164d9311-82b6-4dc3-be1b-9b0e6ffe9fa7');\n",
              "          const dataTable =\n",
              "            await google.colab.kernel.invokeFunction('convertToInteractive',\n",
              "                                                     [key], {});\n",
              "          if (!dataTable) return;\n",
              "\n",
              "          const docLinkHtml = 'Like what you see? Visit the ' +\n",
              "            '<a target=\"_blank\" href=https://colab.research.google.com/notebooks/data_table.ipynb>data table notebook</a>'\n",
              "            + ' to learn more about interactive tables.';\n",
              "          element.innerHTML = '';\n",
              "          dataTable['output_type'] = 'display_data';\n",
              "          await google.colab.output.renderOutput(dataTable, element);\n",
              "          const docLink = document.createElement('div');\n",
              "          docLink.innerHTML = docLinkHtml;\n",
              "          element.appendChild(docLink);\n",
              "        }\n",
              "      </script>\n",
              "    </div>\n",
              "  </div>\n",
              "  "
            ]
          },
          "metadata": {},
          "execution_count": 6
        }
      ]
    },
    {
      "cell_type": "code",
      "source": [
        "scaler = StandardScaler()\n",
        "df.iloc[:,:-1] = scaler.fit_transform(df.iloc[:,:-1])\n",
        "df.head()"
      ],
      "metadata": {
        "colab": {
          "base_uri": "https://localhost:8080/",
          "height": 206
        },
        "id": "dYwUttC7Rexp",
        "outputId": "da1d7da8-37ee-4afa-f2dc-184e281fcedd"
      },
      "execution_count": null,
      "outputs": [
        {
          "output_type": "execute_result",
          "data": {
            "text/plain": [
              "   sepal.length  sepal.width  petal.length  petal.width variety\n",
              "0     -0.900681     1.019004     -1.340227    -1.315444  Setosa\n",
              "1     -1.143017    -0.131979     -1.340227    -1.315444  Setosa\n",
              "2     -1.385353     0.328414     -1.397064    -1.315444  Setosa\n",
              "3     -1.506521     0.098217     -1.283389    -1.315444  Setosa\n",
              "4     -1.021849     1.249201     -1.340227    -1.315444  Setosa"
            ],
            "text/html": [
              "\n",
              "  <div id=\"df-dbf24164-1592-4434-b06a-1bad19232ee4\">\n",
              "    <div class=\"colab-df-container\">\n",
              "      <div>\n",
              "<style scoped>\n",
              "    .dataframe tbody tr th:only-of-type {\n",
              "        vertical-align: middle;\n",
              "    }\n",
              "\n",
              "    .dataframe tbody tr th {\n",
              "        vertical-align: top;\n",
              "    }\n",
              "\n",
              "    .dataframe thead th {\n",
              "        text-align: right;\n",
              "    }\n",
              "</style>\n",
              "<table border=\"1\" class=\"dataframe\">\n",
              "  <thead>\n",
              "    <tr style=\"text-align: right;\">\n",
              "      <th></th>\n",
              "      <th>sepal.length</th>\n",
              "      <th>sepal.width</th>\n",
              "      <th>petal.length</th>\n",
              "      <th>petal.width</th>\n",
              "      <th>variety</th>\n",
              "    </tr>\n",
              "  </thead>\n",
              "  <tbody>\n",
              "    <tr>\n",
              "      <th>0</th>\n",
              "      <td>-0.900681</td>\n",
              "      <td>1.019004</td>\n",
              "      <td>-1.340227</td>\n",
              "      <td>-1.315444</td>\n",
              "      <td>Setosa</td>\n",
              "    </tr>\n",
              "    <tr>\n",
              "      <th>1</th>\n",
              "      <td>-1.143017</td>\n",
              "      <td>-0.131979</td>\n",
              "      <td>-1.340227</td>\n",
              "      <td>-1.315444</td>\n",
              "      <td>Setosa</td>\n",
              "    </tr>\n",
              "    <tr>\n",
              "      <th>2</th>\n",
              "      <td>-1.385353</td>\n",
              "      <td>0.328414</td>\n",
              "      <td>-1.397064</td>\n",
              "      <td>-1.315444</td>\n",
              "      <td>Setosa</td>\n",
              "    </tr>\n",
              "    <tr>\n",
              "      <th>3</th>\n",
              "      <td>-1.506521</td>\n",
              "      <td>0.098217</td>\n",
              "      <td>-1.283389</td>\n",
              "      <td>-1.315444</td>\n",
              "      <td>Setosa</td>\n",
              "    </tr>\n",
              "    <tr>\n",
              "      <th>4</th>\n",
              "      <td>-1.021849</td>\n",
              "      <td>1.249201</td>\n",
              "      <td>-1.340227</td>\n",
              "      <td>-1.315444</td>\n",
              "      <td>Setosa</td>\n",
              "    </tr>\n",
              "  </tbody>\n",
              "</table>\n",
              "</div>\n",
              "      <button class=\"colab-df-convert\" onclick=\"convertToInteractive('df-dbf24164-1592-4434-b06a-1bad19232ee4')\"\n",
              "              title=\"Convert this dataframe to an interactive table.\"\n",
              "              style=\"display:none;\">\n",
              "        \n",
              "  <svg xmlns=\"http://www.w3.org/2000/svg\" height=\"24px\"viewBox=\"0 0 24 24\"\n",
              "       width=\"24px\">\n",
              "    <path d=\"M0 0h24v24H0V0z\" fill=\"none\"/>\n",
              "    <path d=\"M18.56 5.44l.94 2.06.94-2.06 2.06-.94-2.06-.94-.94-2.06-.94 2.06-2.06.94zm-11 1L8.5 8.5l.94-2.06 2.06-.94-2.06-.94L8.5 2.5l-.94 2.06-2.06.94zm10 10l.94 2.06.94-2.06 2.06-.94-2.06-.94-.94-2.06-.94 2.06-2.06.94z\"/><path d=\"M17.41 7.96l-1.37-1.37c-.4-.4-.92-.59-1.43-.59-.52 0-1.04.2-1.43.59L10.3 9.45l-7.72 7.72c-.78.78-.78 2.05 0 2.83L4 21.41c.39.39.9.59 1.41.59.51 0 1.02-.2 1.41-.59l7.78-7.78 2.81-2.81c.8-.78.8-2.07 0-2.86zM5.41 20L4 18.59l7.72-7.72 1.47 1.35L5.41 20z\"/>\n",
              "  </svg>\n",
              "      </button>\n",
              "      \n",
              "  <style>\n",
              "    .colab-df-container {\n",
              "      display:flex;\n",
              "      flex-wrap:wrap;\n",
              "      gap: 12px;\n",
              "    }\n",
              "\n",
              "    .colab-df-convert {\n",
              "      background-color: #E8F0FE;\n",
              "      border: none;\n",
              "      border-radius: 50%;\n",
              "      cursor: pointer;\n",
              "      display: none;\n",
              "      fill: #1967D2;\n",
              "      height: 32px;\n",
              "      padding: 0 0 0 0;\n",
              "      width: 32px;\n",
              "    }\n",
              "\n",
              "    .colab-df-convert:hover {\n",
              "      background-color: #E2EBFA;\n",
              "      box-shadow: 0px 1px 2px rgba(60, 64, 67, 0.3), 0px 1px 3px 1px rgba(60, 64, 67, 0.15);\n",
              "      fill: #174EA6;\n",
              "    }\n",
              "\n",
              "    [theme=dark] .colab-df-convert {\n",
              "      background-color: #3B4455;\n",
              "      fill: #D2E3FC;\n",
              "    }\n",
              "\n",
              "    [theme=dark] .colab-df-convert:hover {\n",
              "      background-color: #434B5C;\n",
              "      box-shadow: 0px 1px 3px 1px rgba(0, 0, 0, 0.15);\n",
              "      filter: drop-shadow(0px 1px 2px rgba(0, 0, 0, 0.3));\n",
              "      fill: #FFFFFF;\n",
              "    }\n",
              "  </style>\n",
              "\n",
              "      <script>\n",
              "        const buttonEl =\n",
              "          document.querySelector('#df-dbf24164-1592-4434-b06a-1bad19232ee4 button.colab-df-convert');\n",
              "        buttonEl.style.display =\n",
              "          google.colab.kernel.accessAllowed ? 'block' : 'none';\n",
              "\n",
              "        async function convertToInteractive(key) {\n",
              "          const element = document.querySelector('#df-dbf24164-1592-4434-b06a-1bad19232ee4');\n",
              "          const dataTable =\n",
              "            await google.colab.kernel.invokeFunction('convertToInteractive',\n",
              "                                                     [key], {});\n",
              "          if (!dataTable) return;\n",
              "\n",
              "          const docLinkHtml = 'Like what you see? Visit the ' +\n",
              "            '<a target=\"_blank\" href=https://colab.research.google.com/notebooks/data_table.ipynb>data table notebook</a>'\n",
              "            + ' to learn more about interactive tables.';\n",
              "          element.innerHTML = '';\n",
              "          dataTable['output_type'] = 'display_data';\n",
              "          await google.colab.output.renderOutput(dataTable, element);\n",
              "          const docLink = document.createElement('div');\n",
              "          docLink.innerHTML = docLinkHtml;\n",
              "          element.appendChild(docLink);\n",
              "        }\n",
              "      </script>\n",
              "    </div>\n",
              "  </div>\n",
              "  "
            ]
          },
          "metadata": {},
          "execution_count": 7
        }
      ]
    },
    {
      "cell_type": "code",
      "source": [
        "# df.columns\n",
        "# df['variety'].unique()"
      ],
      "metadata": {
        "id": "inEdto7G3qrC"
      },
      "execution_count": null,
      "outputs": []
    },
    {
      "cell_type": "markdown",
      "source": [
        "## Show how to calculate step by step"
      ],
      "metadata": {
        "id": "jd5xNyep2y90"
      }
    },
    {
      "cell_type": "markdown",
      "source": [
        "### Spliting data for training and test sets"
      ],
      "metadata": {
        "id": "ie0iYDGJ2PPr"
      }
    },
    {
      "cell_type": "code",
      "source": [
        "X_train, X_test = train_test_split(df, test_size=0.30)"
      ],
      "metadata": {
        "id": "O2knMPRgqSz4"
      },
      "execution_count": null,
      "outputs": []
    },
    {
      "cell_type": "markdown",
      "source": [
        "### Spliting data for each category of Iris. [Setosa, Versicolor, Virginica]"
      ],
      "metadata": {
        "id": "RKBscL-R_egk"
      }
    },
    {
      "cell_type": "code",
      "source": [
        "setosaTrain = X_train[X_train['variety'] == 'Setosa']\n",
        "versicolorTrain = X_train[X_train['variety'] == 'Versicolor']\n",
        "virginicaTrain = X_train[X_train['variety'] == 'Virginica']"
      ],
      "metadata": {
        "id": "8wA64fJE_d_w"
      },
      "execution_count": null,
      "outputs": []
    },
    {
      "cell_type": "markdown",
      "source": [
        "### Functions to calculate coefficiants for trapese function"
      ],
      "metadata": {
        "id": "cYR-nhiMyALN"
      }
    },
    {
      "cell_type": "code",
      "source": [
        "def calculateCoeff(df, i: int):\n",
        "  a = df.iloc[:,i].min() - 0.001\n",
        "  d = df.iloc[:,i].max() + 0.001\n",
        "  mean = df.iloc[:,i].mean()\n",
        "  dfL = df[df.iloc[:,i] <= mean]\n",
        "  dfR = df[df.iloc[:,i] > mean]\n",
        "  b = dfL.iloc[:,i].mean()\n",
        "  c = dfR.iloc[:,i].mean()\n",
        "  return [a,b,c,d]"
      ],
      "metadata": {
        "id": "ZRHz37hUR9eW"
      },
      "execution_count": null,
      "outputs": []
    },
    {
      "cell_type": "code",
      "source": [
        "def calculateCoeffQuantile(df, i: int):\n",
        "  a = df.iloc[:,i].min() - 0.001\n",
        "  d = df.iloc[:,i].max() + 0.001\n",
        "  b = df.iloc[:,i].quantile(0.3)\n",
        "  c = df.iloc[:,i].quantile(0.7)\n",
        "  return [a,b,c,d]"
      ],
      "metadata": {
        "id": "F0daO-7DQCu8"
      },
      "execution_count": null,
      "outputs": []
    },
    {
      "cell_type": "code",
      "source": [
        "def calculateCoeffMedian(df, i: int):\n",
        "  a = df.iloc[:,i].min() - 0.001\n",
        "  d = df.iloc[:,i].max() + 0.001\n",
        "  median = df.iloc[:,i].median()\n",
        "  dfL = df[df.iloc[:,i] <= median]\n",
        "  dfR = df[df.iloc[:,i] > median]\n",
        "  b = dfL.iloc[:,i].median()\n",
        "  c = dfR.iloc[:,i].median()\n",
        "  return [a,b,c,d]"
      ],
      "metadata": {
        "id": "q-T5dZaUVs0h"
      },
      "execution_count": null,
      "outputs": []
    },
    {
      "cell_type": "markdown",
      "source": [
        "### Membership functions"
      ],
      "metadata": {
        "id": "csy6w7klyTH0"
      }
    },
    {
      "cell_type": "code",
      "source": [
        "def trapezeFunction(x: float, coeff):\n",
        "  mu = 0\n",
        "  a = coeff[0]\n",
        "  b = coeff[1]\n",
        "  c = coeff[2]\n",
        "  d = coeff[3] \n",
        "  if x<= a:\n",
        "    mu = 0\n",
        "  elif x<=b:\n",
        "    mu = (x-a)/(b-a)\n",
        "  elif x<=c:\n",
        "    mu = 1\n",
        "  elif x<=d:\n",
        "    mu = (d-x)/(d-c)\n",
        "  else:\n",
        "    mu = 0\n",
        "  return mu"
      ],
      "metadata": {
        "id": "zqbWmoVO9Ivv"
      },
      "execution_count": null,
      "outputs": []
    },
    {
      "cell_type": "markdown",
      "source": [
        "### Calculate coefficiants for every feature for every class in dataset"
      ],
      "metadata": {
        "id": "8B0GhRWGz8ra"
      }
    },
    {
      "cell_type": "code",
      "source": [
        "setosaSL = calculateCoeffMedian(setosaTrain, 0)\n",
        "setosaSW = calculateCoeffMedian(setosaTrain, 1)\n",
        "setosaPL = calculateCoeffMedian(setosaTrain, 2)\n",
        "setosaPW = calculateCoeffMedian(setosaTrain, 3)"
      ],
      "metadata": {
        "id": "8Ov3mrwWR9lr"
      },
      "execution_count": null,
      "outputs": []
    },
    {
      "cell_type": "code",
      "source": [
        "versicolorSL = calculateCoeffMedian(versicolorTrain, 0)\n",
        "versicolorSW = calculateCoeffMedian(versicolorTrain, 1)\n",
        "versicolorPL = calculateCoeffMedian(versicolorTrain, 2)\n",
        "versicolorPW = calculateCoeffMedian(versicolorTrain, 3)"
      ],
      "metadata": {
        "id": "ZEo5932JR9pv"
      },
      "execution_count": null,
      "outputs": []
    },
    {
      "cell_type": "code",
      "source": [
        "virginicaSL = calculateCoeffMedian(virginicaTrain, 0)\n",
        "virginicaSW = calculateCoeffMedian(virginicaTrain, 1)\n",
        "virginicaPL = calculateCoeffMedian(virginicaTrain, 2)\n",
        "virginicaPW = calculateCoeffMedian(virginicaTrain, 3)"
      ],
      "metadata": {
        "id": "MudrfdMLR9sW"
      },
      "execution_count": null,
      "outputs": []
    },
    {
      "cell_type": "code",
      "source": [
        "X_test['predict'] = 0\n",
        "X_test.index = range(len(X_test.index))"
      ],
      "metadata": {
        "id": "-45bOmNSYqEA"
      },
      "execution_count": null,
      "outputs": []
    },
    {
      "cell_type": "markdown",
      "source": [
        "### Calculate accuracy for testsing dataset"
      ],
      "metadata": {
        "id": "t2PC_StJ9_mC"
      }
    },
    {
      "cell_type": "code",
      "source": [
        "for i in range(len(X_test)):\n",
        "  x = X_test.iloc[i,0]\n",
        "  s1 = trapezeFunction(x, setosaSL)\n",
        "  vc1 = trapezeFunction(x, versicolorSL)\n",
        "  v1 = trapezeFunction(x, virginicaSL)\n",
        "\n",
        "  x = X_test.iloc[i,1]\n",
        "  s2 = trapezeFunction(x, setosaSW)\n",
        "  vc2 = trapezeFunction(x, versicolorSW)\n",
        "  v2 = trapezeFunction(x, virginicaSW)\n",
        "\n",
        "  x = X_test.iloc[i,2]\n",
        "  s3 = trapezeFunction(x, setosaPL)\n",
        "  vc3 = trapezeFunction(x, versicolorPL)\n",
        "  v3 = trapezeFunction(x, virginicaPL)\n",
        "\n",
        "  x = X_test.iloc[i,3]\n",
        "  s4 = trapezeFunction(x, setosaPW)\n",
        "  vc4 = trapezeFunction(x, versicolorPW)\n",
        "  v4 = trapezeFunction(x, virginicaPW)\n",
        "\n",
        "\n",
        "  # arg = np.argmax(np.array([s1*s2*s3*s4, vc1*vc2*vc3*vc4, v1*v2*v3*v4]))\n",
        "  # arg = np.argmax(np.array([s1+s2+s3+s4, vc1+vc2+vc3+vc4, v1+v2+v3+v4]))\n",
        "  # arg = np.argmax(np.array([max(s1,s2,s3,s4), max(vc1,vc2,vc3,vc4), max(v1,v2,v3,v4)]))\n",
        "  arg = np.argmax(np.array([np.mean([s1,s2,s3,s4]), np.mean([vc1,vc2,vc3,vc4]), np.mean([v1,v2,v3,v4])]))\n",
        "  #arg = np.argmax(np.array([np.median([s1,s2,s3,s4]), np.median([vc1,vc2,vc3,vc4]), np.median([v1,v2,v3,v4])]))\n",
        "\n",
        "\n",
        "  if arg == 0:\n",
        "    X_test.loc[i,'predict'] = \"Setosa\"\n",
        "  elif arg == 1:\n",
        "    X_test.loc[i,'predict'] = \"Versicolor\"\n",
        "  else: \n",
        "    X_test.loc[i,'predict'] = \"Virginica\"\n",
        "\n",
        "sum = 0\n",
        "for i in range(len(X_test)):\n",
        "  if (X_test.loc[i,'variety'] == X_test.loc[i,'predict']):\n",
        "    sum += 1\n",
        "sum/len(X_test)"
      ],
      "metadata": {
        "id": "yOmio5ZK9QVr",
        "colab": {
          "base_uri": "https://localhost:8080/"
        },
        "outputId": "bce08d97-f921-4dab-eb82-99fd2636628b"
      },
      "execution_count": null,
      "outputs": [
        {
          "output_type": "execute_result",
          "data": {
            "text/plain": [
              "0.9333333333333333"
            ]
          },
          "metadata": {},
          "execution_count": 19
        }
      ]
    },
    {
      "cell_type": "markdown",
      "source": [
        "## Calculate accuracy for algorithm using crossing validation"
      ],
      "metadata": {
        "id": "fI2vTnfa6HIS"
      }
    },
    {
      "cell_type": "code",
      "source": [
        "accuracy = []\n",
        "presicion = []\n",
        "sensitive =[]\n",
        "\n",
        "for k in range(0,100):\n",
        "  X_train, X_test = train_test_split(df, test_size=0.30)\n",
        "\n",
        "  setosaTrain = X_train[X_train['variety'] == 'Setosa']\n",
        "  versicolorTrain = X_train[X_train['variety'] == 'Versicolor']\n",
        "  virginicaTrain = X_train[X_train['variety'] == 'Virginica']\n",
        "\n",
        "  setosaSL = calculateCoeff(setosaTrain, 0) #calculateCoeffQuantile\n",
        "  setosaSW = calculateCoeff(setosaTrain, 1) #calculateCoeffMedian\n",
        "  setosaPL = calculateCoeff(setosaTrain, 2) #calculateCoeff\n",
        "  setosaPW = calculateCoeff(setosaTrain, 3)\n",
        "\n",
        "  versicolorSL = calculateCoeff(versicolorTrain, 0) \n",
        "  versicolorSW = calculateCoeff(versicolorTrain, 1)\n",
        "  versicolorPL = calculateCoeff(versicolorTrain, 2)\n",
        "  versicolorPW = calculateCoeff(versicolorTrain, 3)\n",
        "\n",
        "  virginicaSL = calculateCoeff(virginicaTrain, 0)\n",
        "  virginicaSW = calculateCoeff(virginicaTrain, 1)\n",
        "  virginicaPL = calculateCoeff(virginicaTrain, 2)\n",
        "  virginicaPW = calculateCoeff(virginicaTrain, 3)\n",
        "\n",
        "  X_test['predict'] = 0\n",
        "  X_test.index = range(len(X_test.index))\n",
        "\n",
        "  for i in range(len(X_test)):\n",
        "    x = X_test.iloc[i,0]\n",
        "    s1 = trapezeFunction(x, setosaSL)\n",
        "    vc1 = trapezeFunction(x, versicolorSL)\n",
        "    v1 = trapezeFunction(x, virginicaSL)\n",
        "\n",
        "    x = X_test.iloc[i,1]\n",
        "    s2 = trapezeFunction(x, setosaSW)\n",
        "    vc2 = trapezeFunction(x, versicolorSW)\n",
        "    v2 = trapezeFunction(x, virginicaSW)\n",
        "\n",
        "    x = X_test.iloc[i,2]\n",
        "    s3 = trapezeFunction(x, setosaPL)\n",
        "    vc3 = trapezeFunction(x, versicolorPL)\n",
        "    v3 = trapezeFunction(x, virginicaPL)\n",
        "\n",
        "    x = X_test.iloc[i,3]\n",
        "    s4 = trapezeFunction(x, setosaPW)\n",
        "    vc4 = trapezeFunction(x, versicolorPW)\n",
        "    v4 = trapezeFunction(x, virginicaPW)\n",
        "\n",
        "\n",
        "\n",
        "    #arg = np.argmax(np.array([s1*s2*s3*s4, vc1*vc2*vc3*vc4, v1*v2*v3*v4]))\n",
        "    #arg = np.argmax(np.array([s1+s2+s3+s4, vc1+vc2+vc3+vc4, v1+v2+v3+v4]))\n",
        "    #arg = np.argmax(np.array([max(s1,s2,s3,s4), max(vc1,vc2,vc3,vc4), max(v1,v2,v3,v4)]))\n",
        "    #arg = np.argmax(np.array([np.mean([s1,s2,s3,s4]), np.mean([vc1,vc2,vc3,vc4]), np.mean([v1,v2,v3,v4])]))\n",
        "    arg = np.argmax(np.array([np.median([s1,s2,s3,s4]), np.median([vc1,vc2,vc3,vc4]), np.median([v1,v2,v3,v4])]))\n",
        "\n",
        "    if arg == 0:\n",
        "      X_test.loc[i,'predict'] = \"Setosa\"\n",
        "    elif arg == 1:\n",
        "      X_test.loc[i,'predict'] = \"Versicolor\"\n",
        "    else: \n",
        "      X_test.loc[i,'predict'] = \"Virginica\"\n",
        "\n",
        "  sum = 0\n",
        "  for i in range(len(X_test)):\n",
        "    if (X_test.loc[i,'variety'] == X_test.loc[i,'predict']):\n",
        "      sum += 1\n",
        "  accuracy.append(sum/len(X_test))\n",
        "\n",
        "  sensSetosa = len(X_test[(X_test['predict']==\"Setosa\") & (X_test[\"variety\"]==\"Setosa\")])/len(X_test[X_test[\"variety\"]=='Setosa'])\n",
        "  sensVersi = len(X_test[(X_test['predict']==\"Versicolor\") & (X_test[\"variety\"]==\"Versicolor\")])/len(X_test[X_test[\"variety\"]=='Versicolor'])\n",
        "  sensVirgi = len(X_test[(X_test['predict']==\"Virginica\") & (X_test[\"variety\"]==\"Virginica\")])/len(X_test[X_test[\"variety\"]=='Virginica'])\n",
        "\n",
        "  precSetosa = len(X_test[(X_test['predict']==\"Setosa\") & (X_test[\"variety\"]==\"Setosa\")])/len(X_test[X_test[\"predict\"]=='Setosa'])\n",
        "  precVersi = len(X_test[(X_test['predict']==\"Versicolor\") & (X_test[\"variety\"]==\"Versicolor\")])/len(X_test[X_test[\"predict\"]=='Versicolor'])\n",
        "  precVirgi = len(X_test[(X_test['predict']==\"Virginica\") & (X_test[\"variety\"]==\"Virginica\")])/len(X_test[X_test[\"predict\"]=='Virginica'])\n",
        "\n",
        "  sensitive.append(np.mean([sensSetosa, sensVersi, sensVirgi]))\n",
        "  presicion.append(np.mean([precSetosa, precVersi, precVirgi]))\n",
        "\n",
        "\n",
        "  sensSetosa = 0\n",
        "\n",
        "\n",
        "\n",
        "print(f\" Dokładność wynosi: {np.mean(accuracy)}\")\n",
        "print(f\" Czułość wynosi: {np.mean(sensitive)}\")\n",
        "print(f\" Precyzja wynosi: {np.mean(presicion)}\")"
      ],
      "metadata": {
        "colab": {
          "base_uri": "https://localhost:8080/"
        },
        "id": "_Y4jCqRO5vle",
        "outputId": "d319391a-6463-47f6-debe-ca3a70a2ae3e"
      },
      "execution_count": null,
      "outputs": [
        {
          "output_type": "stream",
          "name": "stdout",
          "text": [
            " Dokładność wynosi: 0.94\n",
            " Czułość wynosi: 0.9396800480987284\n",
            " Precyzja wynosi: 0.9419849952965279\n"
          ]
        }
      ]
    },
    {
      "cell_type": "markdown",
      "source": [
        "Czułość"
      ],
      "metadata": {
        "id": "oASMyHNCO1gD"
      }
    },
    {
      "cell_type": "code",
      "source": [
        "len(X_test[(X_test['predict']==\"Setosa\") & (X_test[\"variety\"]==\"Setosa\")])/len(X_test[X_test[\"variety\"]=='Setosa'])"
      ],
      "metadata": {
        "colab": {
          "base_uri": "https://localhost:8080/"
        },
        "id": "-X_dSXXgGEH5",
        "outputId": "ef6d4d05-af59-4683-b392-817d24c5aef8"
      },
      "execution_count": null,
      "outputs": [
        {
          "output_type": "execute_result",
          "data": {
            "text/plain": [
              "1.0"
            ]
          },
          "metadata": {},
          "execution_count": 59
        }
      ]
    },
    {
      "cell_type": "code",
      "source": [
        "len(X_test[(X_test['predict']==\"Versicolor\") & (X_test[\"variety\"]==\"Versicolor\")])/len(X_test[X_test[\"variety\"]=='Versicolor'])"
      ],
      "metadata": {
        "colab": {
          "base_uri": "https://localhost:8080/"
        },
        "id": "RUzanrWpGnxu",
        "outputId": "ed1083ae-f091-4537-8df9-2c54931bc008"
      },
      "execution_count": null,
      "outputs": [
        {
          "output_type": "execute_result",
          "data": {
            "text/plain": [
              "0.8666666666666667"
            ]
          },
          "metadata": {},
          "execution_count": 60
        }
      ]
    },
    {
      "cell_type": "code",
      "source": [
        "len(X_test[(X_test['predict']==\"Virginica\") & (X_test[\"variety\"]==\"Virginica\")])/len(X_test[X_test[\"variety\"]=='Virginica'])"
      ],
      "metadata": {
        "colab": {
          "base_uri": "https://localhost:8080/"
        },
        "id": "rALdcQObGoAH",
        "outputId": "65210a9f-2a57-43af-853d-b468e860538d"
      },
      "execution_count": null,
      "outputs": [
        {
          "output_type": "execute_result",
          "data": {
            "text/plain": [
              "1.0"
            ]
          },
          "metadata": {},
          "execution_count": 61
        }
      ]
    },
    {
      "cell_type": "markdown",
      "source": [
        "Precision"
      ],
      "metadata": {
        "id": "lWScayspLMfN"
      }
    },
    {
      "cell_type": "code",
      "source": [
        "prec = len(X_test[(X_test['predict']==\"Setosa\") & (X_test[\"variety\"]==\"Setosa\")])/len(X_test[X_test[\"predict\"]=='Setosa'])"
      ],
      "metadata": {
        "id": "LjIBJmDRK55E"
      },
      "execution_count": null,
      "outputs": []
    },
    {
      "cell_type": "code",
      "source": [
        "b = len(X_test[(X_test['predict']==\"Versicolor\") & (X_test[\"variety\"]==\"Versicolor\")])/len(X_test[X_test[\"predict\"]=='Versicolor'])"
      ],
      "metadata": {
        "id": "gnsyA1-rLOJp"
      },
      "execution_count": null,
      "outputs": []
    },
    {
      "cell_type": "code",
      "source": [
        "c = len(X_test[(X_test['predict']==\"Virginica\") & (X_test[\"variety\"]==\"Virginica\")])/len(X_test[X_test[\"predict\"]=='Virginica'])"
      ],
      "metadata": {
        "id": "40ukSr_vLOyQ"
      },
      "execution_count": null,
      "outputs": []
    },
    {
      "cell_type": "code",
      "source": [
        "(a+b+c)/3"
      ],
      "metadata": {
        "colab": {
          "base_uri": "https://localhost:8080/"
        },
        "id": "xjvGqidBLghk",
        "outputId": "0cbbd353-1a5f-46ea-d6ef-03817764eb04"
      },
      "execution_count": null,
      "outputs": [
        {
          "output_type": "execute_result",
          "data": {
            "text/plain": [
              "0.9523809523809524"
            ]
          },
          "metadata": {},
          "execution_count": 65
        }
      ]
    },
    {
      "cell_type": "markdown",
      "source": [
        "## Results\n",
        "For crossvalidation 100 times  \n",
        "For each type of function to calculate coefficiant to trapese function [Original, Quantile Median]  \n",
        "For every way to calculate arg [*, +, max, mean, median]"
      ],
      "metadata": {
        "id": "SpVQgOhy1jDV"
      }
    },
    {
      "cell_type": "markdown",
      "source": [
        "\n",
        "1.   Original\n",
        "*   \"*\" = 0.88466\n",
        "*   \"+\" = 0.92222\n",
        "*   max = 0.66244\n",
        "*   mean = 0.92288\n",
        "*   median = 0.94022 (n=10000: *0.9371133333333334* time = 7:54)\n",
        "\n",
        "2.   Quantile\n",
        "*   \"*\" = 0.89511\n",
        "*   \"+\" = 0.90911\n",
        "*   max = 0.67355\n",
        "*   mean = 0.91533\n",
        "*   median = 0.94466 (n=10000: *0.9397222222222222* time = 8:17)\n",
        "\n",
        "3.   Median\n",
        "*   \"*\" = 0.88933\n",
        "*   \"+\" = 0.91733\n",
        "*   max = 0.62177\n",
        "*   mean = 0.92177\n",
        "*   median = 0.94222 (n=10000: *0.9370755555555556*  time = 8:31)\n",
        "\n",
        "\n",
        "\n",
        "\n"
      ],
      "metadata": {
        "id": "t_4wlTfvWFrp"
      }
    }
  ]
}